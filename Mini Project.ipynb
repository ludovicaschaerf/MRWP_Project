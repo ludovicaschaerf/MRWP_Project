{
 "cells": [
  {
   "cell_type": "markdown",
   "metadata": {},
   "source": [
    "## Mini Project \n",
    "By: Ludovica, Inés, Andrew"
   ]
  },
  {
   "cell_type": "markdown",
   "metadata": {},
   "source": [
    "### Exercise 1 \n",
    "Read the content of the file and generate the correspondent graph. Choose the right type of graph and decide what you want to do with edges weights.\n",
    "\n",
    "To understand which type of graph to generate, we looked at the description of the network in the README: \n",
    "\n",
    "'Each student was asked to list his 5 best female and his 5 male friends. A node represents a student and an edge between two students shows that the left student chose the right student as a friend. Higher edge weights indicate more interactions and a 0 edge weight shows that there is no common activity at all.'\n",
    "\n",
    "We decided to use a directed graph (nx.DiGraph) with weights associated with the edges. We decided to maintain the information on the weights to be able to identify which interactions occur more frequently and constitute, therefore, a greater risk factor during the pandemic. "
   ]
  },
  {
   "cell_type": "code",
   "execution_count": 1,
   "metadata": {},
   "outputs": [
    {
     "data": {
      "text/plain": [
       "(bytes, 142441)"
      ]
     },
     "execution_count": 1,
     "metadata": {},
     "output_type": "execute_result"
    }
   ],
   "source": [
    "# the data is loaded using the .read() method, which returns the content of the whole text file\n",
    "with open('../out.moreno_health_health', 'rb') as infile:\n",
    "    data = infile.read()\n",
    "    \n",
    "type(data), len(data)"
   ]
  },
  {
   "cell_type": "markdown",
   "metadata": {},
   "source": [
    "In order to understand how to convert the input data, we used the information on the README again:\n",
    "\n",
    "'The adjacency matrix of the network is space separated values format, with one edge per line. The meaning of the columns in out.moreno_health are:\n",
    "\n",
    "        First column: ID of from node \n",
    "        Second column: ID of to node\n",
    "        Third column: edge weight'"
   ]
  },
  {
   "cell_type": "code",
   "execution_count": 2,
   "metadata": {
    "scrolled": true
   },
   "outputs": [
    {
     "data": {
      "text/plain": [
       "(list, 12969)"
      ]
     },
     "execution_count": 2,
     "metadata": {},
     "output_type": "execute_result"
    }
   ],
   "source": [
    "# the string is split into the content of each line, which corresponds to one edge\n",
    "edges = str(data).split('\\\\n')\n",
    "\n",
    "#the first 2 and the last line contain additional information that we currently do not need, and will therefore discard\n",
    "list_edges = [[]]*len(edges[2:-1])\n",
    "for i in range(len(edges[2:-1])):\n",
    "    list_edges[i] = edges[2+i].split(' ') #each line of data is transformed into a list containing 3 elements: ID of from node,                                          \n",
    "                                          #ID of to node, edge weight\n",
    "    \n",
    "type(list_edges), len(list_edges)"
   ]
  },
  {
   "cell_type": "markdown",
   "metadata": {},
   "source": [
    "As mentioned above, the created list of lists is converted into a directed graph with weights on its edges."
   ]
  },
  {
   "cell_type": "code",
   "execution_count": 3,
   "metadata": {},
   "outputs": [
    {
     "data": {
      "text/plain": [
       "2539"
      ]
     },
     "execution_count": 3,
     "metadata": {},
     "output_type": "execute_result"
    }
   ],
   "source": [
    "import networkx as nx\n",
    "\n",
    "#instantiation of the directed graph\n",
    "G = nx.DiGraph()\n",
    "\n",
    "for lst in list_edges:\n",
    "    G.add_edge(lst[0], lst[1], weight=float(lst[2])) #the first element is used a the from node, the second the to node \n",
    "                                                     #and the third as the weight   \n",
    "len(G)"
   ]
  },
  {
   "cell_type": "code",
   "execution_count": 4,
   "metadata": {},
   "outputs": [],
   "source": [
    "# saving the network to create a visualization on Gephi\n",
    "nx.write_gexf(G, \"./saved_graph\")"
   ]
  },
  {
   "cell_type": "code",
   "execution_count": 5,
   "metadata": {},
   "outputs": [
    {
     "data": {
      "image/png": "[encoded data removed]",
      "text/plain": [
       "<Figure size 432x288 with 1 Axes>"
      ]
     },
     "metadata": {},
     "output_type": "display_data"
    }
   ],
   "source": [
    "#since the complete visualization is too chaotic, we will visualize a random subgraph of the network\n",
    "import random\n",
    "randomlist = []\n",
    "for i in range(100):\n",
    "    n = random.randint(1,len(G))\n",
    "    randomlist.append(str(n))\n",
    "    \n",
    "nx.draw_networkx(G.subgraph(randomlist), pos=nx.spring_layout(G), node_size=100, font_size=6) "
   ]
  },
  {
   "cell_type": "markdown",
   "metadata": {},
   "source": [
    "### Exercise 2\n",
    "Given your knowledge of network analysis a school principal has approached you with the following query: \"Given the current outbreak of Covid-19 we would like to secure our school. What could we do?\". Use your knowledge to think about possible answers to the school principal. \n",
    "\n",
    "Write a short report (max 2 pages with pictures) in which you: \n",
    "\n",
    "(a) (2 points) Formalise the question you want to answer. The question the school principal asked is very vague. Try to make it formal enough to be studied using network theory. State the question clearly and explain why you think an answer to your question would be relevant.\n",
    "\n",
    "(b) (6 points) Use one of the measures you have seen in the previous classes to answer the question. After you formalised your idea run some tests (you can use Python and/or Gephi) and write your endings. Make sure to present your data in a nice and understandable way. Gephi rendered graphs are welcome."
   ]
  },
  {
   "cell_type": "markdown",
   "metadata": {},
   "source": [
    "#### a) Question Formalisation\n",
    "\n",
    "If the school principal is determined to keep the school open, we would like to, at least, slow down the rate at which the virus will spread, allowing the school to individuate and isolate the virus before the majority of the school contracts it. \n",
    "\n",
    "In order to do that, we will target the individuals who, due to their 'importance' in the graph, have the highest risk of spreading the virus. In so doing, we will individuate the hubs of the network (with respect to their risk factor) and evaluate whether distancing from the school these targeted individuals would be sufficient to prevent the virus from spreading too quickly. \n",
    "\n",
    "In other words, we will evaluate whether various degree centrality measures can detect the people with highest risk of spreading the virus. The results will be assessed on the base of how fast the virus spreads with and without these hubs and how much the distancing of these individuals from the school prevents the creation of the small world phenomenon.\n",
    "\n",
    "To measure whether the velocity of the spread has been decreased sufficiently, we will use the following indicators:\n",
    "- increased characteristic path length\n",
    "- decreased how connected the graph is\n",
    "- increased transitivity (favour closed groups of friends over open chains)\n",
    "- increased clustering coefficient\n",
    "- decreased the size and increased the number of connected components\n",
    "\n",
    "\n",
    "The usefulness of this measure relies in the fact that an individual affected by the virus has an incubation period of two weeks at most. During these weeks, the virus can spread fast inside the school environment, threatening the health of a lot of families. Slowing down the spread, in conjunction with other distancing and sanitizing measures, gives the school time to individuate the problem and, using the contacts annotated in the network, trck the possibly infected individuals. "
   ]
  },
  {
   "cell_type": "markdown",
   "metadata": {},
   "source": [
    "#### b) Experiments\n",
    "\n",
    "As a first step, let us take a look at the measures before any change is made to the network. This will provide a baseline that can be used to compare the results of the following parts. "
   ]
  },
  {
   "cell_type": "code",
   "execution_count": 13,
   "metadata": {},
   "outputs": [
    {
     "name": "stdout",
     "output_type": "stream",
     "text": [
      "original characteristic path length 5.332392145105309, \n",
      "original characteristic path length of biggest component 6.246242139482579,,\n",
      "original network density 0.00201257545412138,\n",
      "original transitivity 0.14172739541160595, \n",
      "original average clustering coefficient 0.11988435473363211, \n",
      "original number of strongly connected components 368, \n",
      "original average size of a connected component 6.899456521739131\n"
     ]
    }
   ],
   "source": [
    "import numpy as np\n",
    "\n",
    "char_path_length = nx.average_shortest_path_length(G)\n",
    "\n",
    "pos_max = np.argmax([len(listElem) for listElem in sorted(nx.strongly_connected_components(G))])\n",
    "char_path_length_component = [nx.average_shortest_path_length(G.subgraph(g)) for g in sorted(nx.strongly_connected_components(G))][pos_max]\n",
    "\n",
    "density = nx.density(G)\n",
    "\n",
    "transitivity = nx.transitivity(G)\n",
    "clustering_coef = nx.average_clustering(G)\n",
    "\n",
    "n_connected_comp = nx.number_strongly_connected_components(G)\n",
    "size_connected_comp = sum([len(listElem) for listElem in sorted(nx.strongly_connected_components(G))])/len(sorted(nx.strongly_connected_components(G)))\n",
    "\n",
    "print(f'original characteristic path length {char_path_length}, \\noriginal characteristic path length of biggest component {char_path_length_component},,\\noriginal network density {density},\\noriginal transitivity {transitivity}, \\noriginal average clustering coefficient {clustering_coef}, \\noriginal number of strongly connected components {n_connected_comp}, \\noriginal average size of a connected component {size_connected_comp}')"
   ]
  },
  {
   "cell_type": "markdown",
   "metadata": {},
   "source": [
    "#### Experiment 1:\n",
    "\n",
    "Using degree centrality to remove the most important nodes of the network:"
   ]
  },
  {
   "cell_type": "code",
   "execution_count": 14,
   "metadata": {},
   "outputs": [],
   "source": [
    "deg_centrality = nx.degree_centrality(G)"
   ]
  },
  {
   "cell_type": "code",
   "execution_count": 26,
   "metadata": {},
   "outputs": [
    {
     "data": {
      "text/plain": [
       "(2539, 2029)"
      ]
     },
     "execution_count": 26,
     "metadata": {},
     "output_type": "execute_result"
    }
   ],
   "source": [
    "G_ = G.copy()\n",
    "\n",
    "list_nodes = G.nodes()\n",
    "\n",
    "for node in list_nodes:\n",
    "    if deg_centrality[node] > 0.0057:\n",
    "        G_.remove_node(node)\n",
    "        \n",
    "len(G), len(G_)"
   ]
  },
  {
   "cell_type": "code",
   "execution_count": 27,
   "metadata": {},
   "outputs": [
    {
     "name": "stdout",
     "output_type": "stream",
     "text": [
      "new characteristic path length 9.60861573737624,\n",
      "new network density 0.0014075977225690992,\n",
      "new transitivity 0.09462680099664175, \n",
      "new average clustering coefficient 0.09331630145119206, \n",
      "new number of strongly connected components 598, \n",
      "new average size of a connected component 3.3929765886287626\n"
     ]
    }
   ],
   "source": [
    "pos_max = np.argmax([len(listElem) for listElem in sorted(nx.strongly_connected_components(G_))])\n",
    "char_path_length = [nx.average_shortest_path_length(G_.subgraph(g_)) for g_ in sorted(nx.strongly_connected_components(G_))][pos_max]\n",
    "\n",
    "density = nx.density(G_)\n",
    "\n",
    "transitivity = nx.transitivity(G_)\n",
    "clustering_coef = nx.average_clustering(G_)\n",
    "\n",
    "n_connected_comp = nx.number_strongly_connected_components(G_)\n",
    "size_connected_comp = sum([len(listElem) for listElem in sorted(nx.strongly_connected_components(G_))])/len(sorted(nx.strongly_connected_components(G_)))\n",
    "\n",
    "print(f'new characteristic path length {char_path_length},\\nnew network density {density},\\nnew transitivity {transitivity}, \\nnew average clustering coefficient {clustering_coef}, \\nnew number of strongly connected components {n_connected_comp}, \\nnew average size of a connected component {size_connected_comp}')"
   ]
  },
  {
   "cell_type": "markdown",
   "metadata": {},
   "source": [
    "#### Experiment 2\n",
    "\n",
    "Using betweenness centrality to remove the most important nodes of the network:"
   ]
  },
  {
   "cell_type": "code",
   "execution_count": 18,
   "metadata": {},
   "outputs": [],
   "source": [
    "between_centrality = nx.betweenness_centrality(G)"
   ]
  },
  {
   "cell_type": "code",
   "execution_count": 40,
   "metadata": {},
   "outputs": [
    {
     "data": {
      "text/plain": [
       "(2539, 2066)"
      ]
     },
     "execution_count": 40,
     "metadata": {},
     "output_type": "execute_result"
    }
   ],
   "source": [
    "G_ = G.copy()\n",
    "\n",
    "list_nodes = G.nodes()\n",
    "\n",
    "for node in list_nodes:\n",
    "    if between_centrality[node] > 0.003:\n",
    "        G_.remove_node(node)\n",
    "        \n",
    "len(G), len(G_)"
   ]
  },
  {
   "cell_type": "code",
   "execution_count": 23,
   "metadata": {},
   "outputs": [
    {
     "name": "stdout",
     "output_type": "stream",
     "text": [
      "new characteristic path length 11.052121089896275,\n",
      "new network density 0.0015960002718990035,\n",
      "new transitivity 0.1557345008208897, \n",
      "new average clustering coefficient 0.11663489914450567, \n",
      "new number of strongly connected components 621, \n",
      "new average size of a connected component 3.3268921095008053\n"
     ]
    }
   ],
   "source": [
    "pos_max = np.argmax([len(listElem) for listElem in sorted(nx.strongly_connected_components(G_))])\n",
    "char_path_length = [nx.average_shortest_path_length(G_.subgraph(g_)) for g_ in sorted(nx.strongly_connected_components(G_))][pos_max]\n",
    "\n",
    "density = nx.density(G_)\n",
    "\n",
    "transitivity = nx.transitivity(G_)\n",
    "clustering_coef = nx.average_clustering(G_)\n",
    "\n",
    "n_connected_comp = nx.number_strongly_connected_components(G_)\n",
    "size_connected_comp = sum([len(listElem) for listElem in sorted(nx.strongly_connected_components(G_))])/len(sorted(nx.strongly_connected_components(G_)))\n",
    "\n",
    "print(f'new characteristic path length {char_path_length},\\nnew network density {density},\\nnew transitivity {transitivity}, \\nnew average clustering coefficient {clustering_coef}, \\nnew number of strongly connected components {n_connected_comp}, \\nnew average size of a connected component {size_connected_comp}')"
   ]
  },
  {
   "cell_type": "markdown",
   "metadata": {},
   "source": [
    "#### Experiment 3\n",
    "\n",
    "Using eigen vector centrality to remove the most important nodes of the network:"
   ]
  },
  {
   "cell_type": "code",
   "execution_count": 28,
   "metadata": {},
   "outputs": [],
   "source": [
    "eigen_centrality = nx.eigenvector_centrality(G)"
   ]
  },
  {
   "cell_type": "code",
   "execution_count": 38,
   "metadata": {},
   "outputs": [
    {
     "data": {
      "text/plain": [
       "(2539, 2038)"
      ]
     },
     "execution_count": 38,
     "metadata": {},
     "output_type": "execute_result"
    }
   ],
   "source": [
    "G_ = G.copy()\n",
    "\n",
    "list_nodes = G.nodes()\n",
    "\n",
    "for node in list_nodes:\n",
    "    if eigen_centrality[node] > 0.0007:\n",
    "        G_.remove_node(node)\n",
    "        \n",
    "len(G), len(G_)"
   ]
  },
  {
   "cell_type": "code",
   "execution_count": 39,
   "metadata": {},
   "outputs": [
    {
     "name": "stdout",
     "output_type": "stream",
     "text": [
      "new characteristic path length 7.261922540761944,\n",
      "new network density 0.0018572021141752939,\n",
      "new transitivity 0.1281623906184892, \n",
      "new average clustering coefficient 0.1168912756043287, \n",
      "new number of strongly connected components 412, \n",
      "new average size of a connected component 4.946601941747573\n"
     ]
    }
   ],
   "source": [
    "pos_max = np.argmax([len(listElem) for listElem in sorted(nx.strongly_connected_components(G_))])\n",
    "char_path_length = [nx.average_shortest_path_length(G_.subgraph(g_)) for g_ in sorted(nx.strongly_connected_components(G_))][pos_max]\n",
    "\n",
    "density = nx.density(G_)\n",
    "\n",
    "transitivity = nx.transitivity(G_)\n",
    "clustering_coef = nx.average_clustering(G_)\n",
    "\n",
    "n_connected_comp = nx.number_strongly_connected_components(G_)\n",
    "size_connected_comp = sum([len(listElem) for listElem in sorted(nx.strongly_connected_components(G_))])/len(sorted(nx.strongly_connected_components(G_)))\n",
    "\n",
    "print(f'new characteristic path length {char_path_length},\\nnew network density {density},\\nnew transitivity {transitivity}, \\nnew average clustering coefficient {clustering_coef}, \\nnew number of strongly connected components {n_connected_comp}, \\nnew average size of a connected component {size_connected_comp}')"
   ]
  },
  {
   "cell_type": "markdown",
   "metadata": {},
   "source": [
    "Inspecting the degrees"
   ]
  },
  {
   "cell_type": "code",
   "execution_count": 41,
   "metadata": {},
   "outputs": [
    {
     "data": {
      "text/plain": [
       "(36, 1, 10.215833005120126)"
      ]
     },
     "execution_count": 41,
     "metadata": {},
     "output_type": "execute_result"
    }
   ],
   "source": [
    "degrees = []\n",
    "for node in G.nodes():\n",
    "    degrees.append(G.degree(node))\n",
    "    \n",
    "max(degrees), min(degrees), np.mean(degrees)"
   ]
  },
  {
   "cell_type": "code",
   "execution_count": 42,
   "metadata": {},
   "outputs": [
    {
     "data": {
      "text/plain": [
       "(32, 0, 6.591481122942885)"
      ]
     },
     "execution_count": 42,
     "metadata": {},
     "output_type": "execute_result"
    }
   ],
   "source": [
    "degrees = []\n",
    "for node in G_.nodes():\n",
    "    degrees.append(G_.degree(node))\n",
    "    \n",
    "max(degrees), min(degrees), np.mean(degrees)"
   ]
  },
  {
   "cell_type": "code",
   "execution_count": null,
   "metadata": {},
   "outputs": [],
   "source": []
  }
 ],
 "metadata": {
  "kernelspec": {
   "display_name": "Python 3",
   "language": "python",
   "name": "python3"
  },
  "language_info": {
   "codemirror_mode": {
    "name": "ipython",
    "version": 3
   },
   "file_extension": ".py",
   "mimetype": "text/x-python",
   "name": "python",
   "nbconvert_exporter": "python",
   "pygments_lexer": "ipython3",
   "version": "3.7.6"
  }
 },
 "nbformat": 4,
 "nbformat_minor": 4
}
